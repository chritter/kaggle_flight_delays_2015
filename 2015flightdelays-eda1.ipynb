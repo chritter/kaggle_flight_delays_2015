{
 "cells": [
  {
   "cell_type": "markdown",
   "id": "37c5a4c8",
   "metadata": {
    "_execution_state": "idle",
    "_uuid": "051d70d956493feee0c6d64651c6a088724dca2a",
    "papermill": {
     "duration": 0.008721,
     "end_time": "2023-12-26T01:18:16.392700",
     "exception": false,
     "start_time": "2023-12-26T01:18:16.383979",
     "status": "completed"
    },
    "tags": []
   },
   "source": [
    "# EDA - Flights: Delayed etc."
   ]
  },
  {
   "cell_type": "markdown",
   "id": "44311074",
   "metadata": {
    "papermill": {
     "duration": 0.007986,
     "end_time": "2023-12-26T01:18:16.408825",
     "exception": false,
     "start_time": "2023-12-26T01:18:16.400839",
     "status": "completed"
    },
    "tags": []
   },
   "source": [
    "# I. Business Problem\n",
    "\n",
    "* As it is not a competition no explicit goals are defined\n",
    "* The goal could be phrased as to identify application of ML to improve the business\n",
    "* Scenario: US Department wants to forecasting with ML on domestic flights to improve flight experience\n",
    "    * For them most impactful and most costly as a single event might be flight cancellation \n",
    "    * Looking at the statistics however flight of other categories might be more prevalent (e.g. delays) and could outweight the overall associated cost (imbalanced events)\n",
    "    * We don't know exactly the cost impact of each outputcome (delay, cancellation, diverting flights) and the business perspective and have to make assumptions.\n",
    "    * Based on we assume https://www.airlines.org/dataset/u-s-passenger-carrier-delay-costs/ we assume 101USD/minute for delays\n",
    "    * For cancellation the cost depends on aircraft size etc. and we assume.. There the tail number which allows to potentially identify the aircraft and its size (https://www.flightradar24.com/data/aircraft/n407as#) but its out of scope. \n",
    "* Goals\n",
    "    * Predict flight delays, particularly weighting for expensive delays\n",
    "    * What do we predict for cancelled flights? Assume we do predictions of delays only *after* it has been clear that the flight is not cancelled or diverted.\n",
    "* I would ask for the following data for this scenario  identified (simulated as already available)\n",
    "    * Have data for all flights incl. those who are delayed.\n",
    "    * Ability to exclude flights which are cancelled, diverted\n",
    "    * Data for whole year, suitable for forecasts as it incl. seasonal effects and monthly changes\n",
    "\n"
   ]
  },
  {
   "cell_type": "code",
   "execution_count": 1,
   "id": "7f1b7ad1",
   "metadata": {
    "execution": {
     "iopub.execute_input": "2023-12-26T01:18:16.428442Z",
     "iopub.status.busy": "2023-12-26T01:18:16.428009Z",
     "iopub.status.idle": "2023-12-26T01:18:16.442168Z",
     "shell.execute_reply": "2023-12-26T01:18:16.440502Z"
    },
    "papermill": {
     "duration": 0.02779,
     "end_time": "2023-12-26T01:18:16.445195",
     "exception": false,
     "start_time": "2023-12-26T01:18:16.417405",
     "status": "completed"
    },
    "tags": []
   },
   "outputs": [],
   "source": [
    "delay_cost_per_minute = 101 # USD"
   ]
  },
  {
   "cell_type": "markdown",
   "id": "d40877c6",
   "metadata": {
    "papermill": {
     "duration": 0.008266,
     "end_time": "2023-12-26T01:18:16.461849",
     "exception": false,
     "start_time": "2023-12-26T01:18:16.453583",
     "status": "completed"
    },
    "tags": []
   },
   "source": [
    "# Ii. Data Extraction Data Notes\n",
    "\n",
    "* on-time performance of domestic flights \n",
    "* operated by large air carriers. \n",
    "* Summary information on the number of on-time, delayed, canceled, and diverted flights is published in DOT's monthly Air Travel Consumer Report and in this dataset of 2015 flight delays and cancellations.\n",
    "* If only delays and cancellation flights are included, then detection would require also regular flights as negatives."
   ]
  },
  {
   "cell_type": "code",
   "execution_count": 2,
   "id": "7c709bac",
   "metadata": {
    "execution": {
     "iopub.execute_input": "2023-12-26T01:18:16.480247Z",
     "iopub.status.busy": "2023-12-26T01:18:16.479809Z",
     "iopub.status.idle": "2023-12-26T01:18:17.571548Z",
     "shell.execute_reply": "2023-12-26T01:18:17.570104Z"
    },
    "papermill": {
     "duration": 1.104655,
     "end_time": "2023-12-26T01:18:17.574794",
     "exception": false,
     "start_time": "2023-12-26T01:18:16.470139",
     "status": "completed"
    },
    "tags": []
   },
   "outputs": [],
   "source": [
    "import pandas as pd\n",
    "pd.set_option('display.max_columns', 100)\n"
   ]
  },
  {
   "cell_type": "code",
   "execution_count": 3,
   "id": "400f8d7e",
   "metadata": {
    "execution": {
     "iopub.execute_input": "2023-12-26T01:18:17.594894Z",
     "iopub.status.busy": "2023-12-26T01:18:17.593874Z",
     "iopub.status.idle": "2023-12-26T01:18:52.124336Z",
     "shell.execute_reply": "2023-12-26T01:18:52.123021Z"
    },
    "papermill": {
     "duration": 34.544825,
     "end_time": "2023-12-26T01:18:52.127617",
     "exception": false,
     "start_time": "2023-12-26T01:18:17.582792",
     "status": "completed"
    },
    "tags": []
   },
   "outputs": [
    {
     "name": "stderr",
     "output_type": "stream",
     "text": [
      "/tmp/ipykernel_19/2190106397.py:1: DtypeWarning: Columns (7,8) have mixed types. Specify dtype option on import or set low_memory=False.\n",
      "  flights = pd.read_csv(\"/kaggle/input/flight-delays/flights.csv\")\n"
     ]
    }
   ],
   "source": [
    "flights = pd.read_csv(\"/kaggle/input/flight-delays/flights.csv\")"
   ]
  },
  {
   "cell_type": "markdown",
   "id": "7b5141ee",
   "metadata": {
    "papermill": {
     "duration": 0.008118,
     "end_time": "2023-12-26T01:18:52.143819",
     "exception": false,
     "start_time": "2023-12-26T01:18:52.135701",
     "status": "completed"
    },
    "tags": []
   },
   "source": [
    "# III. Meet & Greet\n"
   ]
  },
  {
   "cell_type": "code",
   "execution_count": 4,
   "id": "c5502e26",
   "metadata": {
    "execution": {
     "iopub.execute_input": "2023-12-26T01:18:52.162428Z",
     "iopub.status.busy": "2023-12-26T01:18:52.161992Z",
     "iopub.status.idle": "2023-12-26T01:18:52.171307Z",
     "shell.execute_reply": "2023-12-26T01:18:52.169994Z"
    },
    "papermill": {
     "duration": 0.021864,
     "end_time": "2023-12-26T01:18:52.173975",
     "exception": false,
     "start_time": "2023-12-26T01:18:52.152111",
     "status": "completed"
    },
    "tags": []
   },
   "outputs": [
    {
     "data": {
      "text/plain": [
       "(5819079, 31)"
      ]
     },
     "execution_count": 4,
     "metadata": {},
     "output_type": "execute_result"
    }
   ],
   "source": [
    "flights.shape"
   ]
  },
  {
   "cell_type": "code",
   "execution_count": 5,
   "id": "24b00da5",
   "metadata": {
    "execution": {
     "iopub.execute_input": "2023-12-26T01:18:52.192935Z",
     "iopub.status.busy": "2023-12-26T01:18:52.192522Z",
     "iopub.status.idle": "2023-12-26T01:18:52.201496Z",
     "shell.execute_reply": "2023-12-26T01:18:52.200166Z"
    },
    "papermill": {
     "duration": 0.021954,
     "end_time": "2023-12-26T01:18:52.204066",
     "exception": false,
     "start_time": "2023-12-26T01:18:52.182112",
     "status": "completed"
    },
    "tags": []
   },
   "outputs": [
    {
     "data": {
      "text/plain": [
       "Index(['YEAR', 'MONTH', 'DAY', 'DAY_OF_WEEK', 'AIRLINE', 'FLIGHT_NUMBER',\n",
       "       'TAIL_NUMBER', 'ORIGIN_AIRPORT', 'DESTINATION_AIRPORT',\n",
       "       'SCHEDULED_DEPARTURE', 'DEPARTURE_TIME', 'DEPARTURE_DELAY', 'TAXI_OUT',\n",
       "       'WHEELS_OFF', 'SCHEDULED_TIME', 'ELAPSED_TIME', 'AIR_TIME', 'DISTANCE',\n",
       "       'WHEELS_ON', 'TAXI_IN', 'SCHEDULED_ARRIVAL', 'ARRIVAL_TIME',\n",
       "       'ARRIVAL_DELAY', 'DIVERTED', 'CANCELLED', 'CANCELLATION_REASON',\n",
       "       'AIR_SYSTEM_DELAY', 'SECURITY_DELAY', 'AIRLINE_DELAY',\n",
       "       'LATE_AIRCRAFT_DELAY', 'WEATHER_DELAY'],\n",
       "      dtype='object')"
      ]
     },
     "execution_count": 5,
     "metadata": {},
     "output_type": "execute_result"
    }
   ],
   "source": [
    "flights.columns"
   ]
  },
  {
   "cell_type": "markdown",
   "id": "16e2fe0b",
   "metadata": {
    "papermill": {
     "duration": 0.008124,
     "end_time": "2023-12-26T01:18:52.220681",
     "exception": false,
     "start_time": "2023-12-26T01:18:52.212557",
     "status": "completed"
    },
    "tags": []
   },
   "source": [
    "* flight outcomes\n",
    "    * DIVERTED\n",
    "    * CANCELLED, CANCELLATION_REASON\n",
    "    * delayed\n",
    "* Delay Types\n",
    "    * Departure Delay (DEPARTURE_DELAY) (can this still lead to DIVERTED or CANCELLED?\n",
    "    * Arrival Delay (ARRIVAL_DELAY) = DEPARTURE_DELAY + flight delay (assumption!)\n",
    "* Delay variables (numeric, time, units?)\n",
    "    * AIR_SYSTEM_DELAY\n",
    "    * SECURITY_DELAY (might impact DEPARTURE_DELAY)\n",
    "    * AIRLINE_DELAY (\n",
    "    * LATE_AIRCRAFT_DELAY\n",
    "    * WEATHER_DELAY\n"
   ]
  },
  {
   "cell_type": "code",
   "execution_count": 6,
   "id": "4c1e50f4",
   "metadata": {
    "execution": {
     "iopub.execute_input": "2023-12-26T01:18:52.240921Z",
     "iopub.status.busy": "2023-12-26T01:18:52.240508Z",
     "iopub.status.idle": "2023-12-26T01:18:52.287651Z",
     "shell.execute_reply": "2023-12-26T01:18:52.286184Z"
    },
    "papermill": {
     "duration": 0.060367,
     "end_time": "2023-12-26T01:18:52.290751",
     "exception": false,
     "start_time": "2023-12-26T01:18:52.230384",
     "status": "completed"
    },
    "tags": []
   },
   "outputs": [
    {
     "data": {
      "text/html": [
       "<div>\n",
       "<style scoped>\n",
       "    .dataframe tbody tr th:only-of-type {\n",
       "        vertical-align: middle;\n",
       "    }\n",
       "\n",
       "    .dataframe tbody tr th {\n",
       "        vertical-align: top;\n",
       "    }\n",
       "\n",
       "    .dataframe thead th {\n",
       "        text-align: right;\n",
       "    }\n",
       "</style>\n",
       "<table border=\"1\" class=\"dataframe\">\n",
       "  <thead>\n",
       "    <tr style=\"text-align: right;\">\n",
       "      <th></th>\n",
       "      <th>YEAR</th>\n",
       "      <th>MONTH</th>\n",
       "      <th>DAY</th>\n",
       "      <th>DAY_OF_WEEK</th>\n",
       "      <th>AIRLINE</th>\n",
       "      <th>FLIGHT_NUMBER</th>\n",
       "      <th>TAIL_NUMBER</th>\n",
       "      <th>ORIGIN_AIRPORT</th>\n",
       "      <th>DESTINATION_AIRPORT</th>\n",
       "      <th>SCHEDULED_DEPARTURE</th>\n",
       "      <th>DEPARTURE_TIME</th>\n",
       "      <th>DEPARTURE_DELAY</th>\n",
       "      <th>TAXI_OUT</th>\n",
       "      <th>WHEELS_OFF</th>\n",
       "      <th>SCHEDULED_TIME</th>\n",
       "      <th>ELAPSED_TIME</th>\n",
       "      <th>AIR_TIME</th>\n",
       "      <th>DISTANCE</th>\n",
       "      <th>WHEELS_ON</th>\n",
       "      <th>TAXI_IN</th>\n",
       "      <th>SCHEDULED_ARRIVAL</th>\n",
       "      <th>ARRIVAL_TIME</th>\n",
       "      <th>ARRIVAL_DELAY</th>\n",
       "      <th>DIVERTED</th>\n",
       "      <th>CANCELLED</th>\n",
       "      <th>CANCELLATION_REASON</th>\n",
       "      <th>AIR_SYSTEM_DELAY</th>\n",
       "      <th>SECURITY_DELAY</th>\n",
       "      <th>AIRLINE_DELAY</th>\n",
       "      <th>LATE_AIRCRAFT_DELAY</th>\n",
       "      <th>WEATHER_DELAY</th>\n",
       "    </tr>\n",
       "  </thead>\n",
       "  <tbody>\n",
       "    <tr>\n",
       "      <th>0</th>\n",
       "      <td>2015</td>\n",
       "      <td>1</td>\n",
       "      <td>1</td>\n",
       "      <td>4</td>\n",
       "      <td>AS</td>\n",
       "      <td>98</td>\n",
       "      <td>N407AS</td>\n",
       "      <td>ANC</td>\n",
       "      <td>SEA</td>\n",
       "      <td>5</td>\n",
       "      <td>2354.0</td>\n",
       "      <td>-11.0</td>\n",
       "      <td>21.0</td>\n",
       "      <td>15.0</td>\n",
       "      <td>205.0</td>\n",
       "      <td>194.0</td>\n",
       "      <td>169.0</td>\n",
       "      <td>1448</td>\n",
       "      <td>404.0</td>\n",
       "      <td>4.0</td>\n",
       "      <td>430</td>\n",
       "      <td>408.0</td>\n",
       "      <td>-22.0</td>\n",
       "      <td>0</td>\n",
       "      <td>0</td>\n",
       "      <td>NaN</td>\n",
       "      <td>NaN</td>\n",
       "      <td>NaN</td>\n",
       "      <td>NaN</td>\n",
       "      <td>NaN</td>\n",
       "      <td>NaN</td>\n",
       "    </tr>\n",
       "    <tr>\n",
       "      <th>1</th>\n",
       "      <td>2015</td>\n",
       "      <td>1</td>\n",
       "      <td>1</td>\n",
       "      <td>4</td>\n",
       "      <td>AA</td>\n",
       "      <td>2336</td>\n",
       "      <td>N3KUAA</td>\n",
       "      <td>LAX</td>\n",
       "      <td>PBI</td>\n",
       "      <td>10</td>\n",
       "      <td>2.0</td>\n",
       "      <td>-8.0</td>\n",
       "      <td>12.0</td>\n",
       "      <td>14.0</td>\n",
       "      <td>280.0</td>\n",
       "      <td>279.0</td>\n",
       "      <td>263.0</td>\n",
       "      <td>2330</td>\n",
       "      <td>737.0</td>\n",
       "      <td>4.0</td>\n",
       "      <td>750</td>\n",
       "      <td>741.0</td>\n",
       "      <td>-9.0</td>\n",
       "      <td>0</td>\n",
       "      <td>0</td>\n",
       "      <td>NaN</td>\n",
       "      <td>NaN</td>\n",
       "      <td>NaN</td>\n",
       "      <td>NaN</td>\n",
       "      <td>NaN</td>\n",
       "      <td>NaN</td>\n",
       "    </tr>\n",
       "    <tr>\n",
       "      <th>2</th>\n",
       "      <td>2015</td>\n",
       "      <td>1</td>\n",
       "      <td>1</td>\n",
       "      <td>4</td>\n",
       "      <td>US</td>\n",
       "      <td>840</td>\n",
       "      <td>N171US</td>\n",
       "      <td>SFO</td>\n",
       "      <td>CLT</td>\n",
       "      <td>20</td>\n",
       "      <td>18.0</td>\n",
       "      <td>-2.0</td>\n",
       "      <td>16.0</td>\n",
       "      <td>34.0</td>\n",
       "      <td>286.0</td>\n",
       "      <td>293.0</td>\n",
       "      <td>266.0</td>\n",
       "      <td>2296</td>\n",
       "      <td>800.0</td>\n",
       "      <td>11.0</td>\n",
       "      <td>806</td>\n",
       "      <td>811.0</td>\n",
       "      <td>5.0</td>\n",
       "      <td>0</td>\n",
       "      <td>0</td>\n",
       "      <td>NaN</td>\n",
       "      <td>NaN</td>\n",
       "      <td>NaN</td>\n",
       "      <td>NaN</td>\n",
       "      <td>NaN</td>\n",
       "      <td>NaN</td>\n",
       "    </tr>\n",
       "    <tr>\n",
       "      <th>3</th>\n",
       "      <td>2015</td>\n",
       "      <td>1</td>\n",
       "      <td>1</td>\n",
       "      <td>4</td>\n",
       "      <td>AA</td>\n",
       "      <td>258</td>\n",
       "      <td>N3HYAA</td>\n",
       "      <td>LAX</td>\n",
       "      <td>MIA</td>\n",
       "      <td>20</td>\n",
       "      <td>15.0</td>\n",
       "      <td>-5.0</td>\n",
       "      <td>15.0</td>\n",
       "      <td>30.0</td>\n",
       "      <td>285.0</td>\n",
       "      <td>281.0</td>\n",
       "      <td>258.0</td>\n",
       "      <td>2342</td>\n",
       "      <td>748.0</td>\n",
       "      <td>8.0</td>\n",
       "      <td>805</td>\n",
       "      <td>756.0</td>\n",
       "      <td>-9.0</td>\n",
       "      <td>0</td>\n",
       "      <td>0</td>\n",
       "      <td>NaN</td>\n",
       "      <td>NaN</td>\n",
       "      <td>NaN</td>\n",
       "      <td>NaN</td>\n",
       "      <td>NaN</td>\n",
       "      <td>NaN</td>\n",
       "    </tr>\n",
       "    <tr>\n",
       "      <th>4</th>\n",
       "      <td>2015</td>\n",
       "      <td>1</td>\n",
       "      <td>1</td>\n",
       "      <td>4</td>\n",
       "      <td>AS</td>\n",
       "      <td>135</td>\n",
       "      <td>N527AS</td>\n",
       "      <td>SEA</td>\n",
       "      <td>ANC</td>\n",
       "      <td>25</td>\n",
       "      <td>24.0</td>\n",
       "      <td>-1.0</td>\n",
       "      <td>11.0</td>\n",
       "      <td>35.0</td>\n",
       "      <td>235.0</td>\n",
       "      <td>215.0</td>\n",
       "      <td>199.0</td>\n",
       "      <td>1448</td>\n",
       "      <td>254.0</td>\n",
       "      <td>5.0</td>\n",
       "      <td>320</td>\n",
       "      <td>259.0</td>\n",
       "      <td>-21.0</td>\n",
       "      <td>0</td>\n",
       "      <td>0</td>\n",
       "      <td>NaN</td>\n",
       "      <td>NaN</td>\n",
       "      <td>NaN</td>\n",
       "      <td>NaN</td>\n",
       "      <td>NaN</td>\n",
       "      <td>NaN</td>\n",
       "    </tr>\n",
       "  </tbody>\n",
       "</table>\n",
       "</div>"
      ],
      "text/plain": [
       "   YEAR  MONTH  DAY  DAY_OF_WEEK AIRLINE  FLIGHT_NUMBER TAIL_NUMBER  \\\n",
       "0  2015      1    1            4      AS             98      N407AS   \n",
       "1  2015      1    1            4      AA           2336      N3KUAA   \n",
       "2  2015      1    1            4      US            840      N171US   \n",
       "3  2015      1    1            4      AA            258      N3HYAA   \n",
       "4  2015      1    1            4      AS            135      N527AS   \n",
       "\n",
       "  ORIGIN_AIRPORT DESTINATION_AIRPORT  SCHEDULED_DEPARTURE  DEPARTURE_TIME  \\\n",
       "0            ANC                 SEA                    5          2354.0   \n",
       "1            LAX                 PBI                   10             2.0   \n",
       "2            SFO                 CLT                   20            18.0   \n",
       "3            LAX                 MIA                   20            15.0   \n",
       "4            SEA                 ANC                   25            24.0   \n",
       "\n",
       "   DEPARTURE_DELAY  TAXI_OUT  WHEELS_OFF  SCHEDULED_TIME  ELAPSED_TIME  \\\n",
       "0            -11.0      21.0        15.0           205.0         194.0   \n",
       "1             -8.0      12.0        14.0           280.0         279.0   \n",
       "2             -2.0      16.0        34.0           286.0         293.0   \n",
       "3             -5.0      15.0        30.0           285.0         281.0   \n",
       "4             -1.0      11.0        35.0           235.0         215.0   \n",
       "\n",
       "   AIR_TIME  DISTANCE  WHEELS_ON  TAXI_IN  SCHEDULED_ARRIVAL  ARRIVAL_TIME  \\\n",
       "0     169.0      1448      404.0      4.0                430         408.0   \n",
       "1     263.0      2330      737.0      4.0                750         741.0   \n",
       "2     266.0      2296      800.0     11.0                806         811.0   \n",
       "3     258.0      2342      748.0      8.0                805         756.0   \n",
       "4     199.0      1448      254.0      5.0                320         259.0   \n",
       "\n",
       "   ARRIVAL_DELAY  DIVERTED  CANCELLED CANCELLATION_REASON  AIR_SYSTEM_DELAY  \\\n",
       "0          -22.0         0          0                 NaN               NaN   \n",
       "1           -9.0         0          0                 NaN               NaN   \n",
       "2            5.0         0          0                 NaN               NaN   \n",
       "3           -9.0         0          0                 NaN               NaN   \n",
       "4          -21.0         0          0                 NaN               NaN   \n",
       "\n",
       "   SECURITY_DELAY  AIRLINE_DELAY  LATE_AIRCRAFT_DELAY  WEATHER_DELAY  \n",
       "0             NaN            NaN                  NaN            NaN  \n",
       "1             NaN            NaN                  NaN            NaN  \n",
       "2             NaN            NaN                  NaN            NaN  \n",
       "3             NaN            NaN                  NaN            NaN  \n",
       "4             NaN            NaN                  NaN            NaN  "
      ]
     },
     "execution_count": 6,
     "metadata": {},
     "output_type": "execute_result"
    }
   ],
   "source": [
    "flights.head()"
   ]
  },
  {
   "cell_type": "code",
   "execution_count": 7,
   "id": "4a2c750f",
   "metadata": {
    "execution": {
     "iopub.execute_input": "2023-12-26T01:18:52.310851Z",
     "iopub.status.busy": "2023-12-26T01:18:52.310214Z",
     "iopub.status.idle": "2023-12-26T01:18:59.700112Z",
     "shell.execute_reply": "2023-12-26T01:18:59.698610Z"
    },
    "papermill": {
     "duration": 7.403323,
     "end_time": "2023-12-26T01:18:59.703023",
     "exception": false,
     "start_time": "2023-12-26T01:18:52.299700",
     "status": "completed"
    },
    "tags": []
   },
   "outputs": [
    {
     "data": {
      "text/html": [
       "<div>\n",
       "<style scoped>\n",
       "    .dataframe tbody tr th:only-of-type {\n",
       "        vertical-align: middle;\n",
       "    }\n",
       "\n",
       "    .dataframe tbody tr th {\n",
       "        vertical-align: top;\n",
       "    }\n",
       "\n",
       "    .dataframe thead th {\n",
       "        text-align: right;\n",
       "    }\n",
       "</style>\n",
       "<table border=\"1\" class=\"dataframe\">\n",
       "  <thead>\n",
       "    <tr style=\"text-align: right;\">\n",
       "      <th></th>\n",
       "      <th>YEAR</th>\n",
       "      <th>MONTH</th>\n",
       "      <th>DAY</th>\n",
       "      <th>DAY_OF_WEEK</th>\n",
       "      <th>FLIGHT_NUMBER</th>\n",
       "      <th>SCHEDULED_DEPARTURE</th>\n",
       "      <th>DEPARTURE_TIME</th>\n",
       "      <th>DEPARTURE_DELAY</th>\n",
       "      <th>TAXI_OUT</th>\n",
       "      <th>WHEELS_OFF</th>\n",
       "      <th>SCHEDULED_TIME</th>\n",
       "      <th>ELAPSED_TIME</th>\n",
       "      <th>AIR_TIME</th>\n",
       "      <th>DISTANCE</th>\n",
       "      <th>WHEELS_ON</th>\n",
       "      <th>TAXI_IN</th>\n",
       "      <th>SCHEDULED_ARRIVAL</th>\n",
       "      <th>ARRIVAL_TIME</th>\n",
       "      <th>ARRIVAL_DELAY</th>\n",
       "      <th>DIVERTED</th>\n",
       "      <th>CANCELLED</th>\n",
       "      <th>AIR_SYSTEM_DELAY</th>\n",
       "      <th>SECURITY_DELAY</th>\n",
       "      <th>AIRLINE_DELAY</th>\n",
       "      <th>LATE_AIRCRAFT_DELAY</th>\n",
       "      <th>WEATHER_DELAY</th>\n",
       "    </tr>\n",
       "  </thead>\n",
       "  <tbody>\n",
       "    <tr>\n",
       "      <th>count</th>\n",
       "      <td>5819079.0</td>\n",
       "      <td>5.819079e+06</td>\n",
       "      <td>5.819079e+06</td>\n",
       "      <td>5.819079e+06</td>\n",
       "      <td>5.819079e+06</td>\n",
       "      <td>5.819079e+06</td>\n",
       "      <td>5.732926e+06</td>\n",
       "      <td>5.732926e+06</td>\n",
       "      <td>5.730032e+06</td>\n",
       "      <td>5.730032e+06</td>\n",
       "      <td>5.819073e+06</td>\n",
       "      <td>5.714008e+06</td>\n",
       "      <td>5.714008e+06</td>\n",
       "      <td>5.819079e+06</td>\n",
       "      <td>5.726566e+06</td>\n",
       "      <td>5.726566e+06</td>\n",
       "      <td>5.819079e+06</td>\n",
       "      <td>5.726566e+06</td>\n",
       "      <td>5.714008e+06</td>\n",
       "      <td>5.819079e+06</td>\n",
       "      <td>5.819079e+06</td>\n",
       "      <td>1.063439e+06</td>\n",
       "      <td>1.063439e+06</td>\n",
       "      <td>1.063439e+06</td>\n",
       "      <td>1.063439e+06</td>\n",
       "      <td>1.063439e+06</td>\n",
       "    </tr>\n",
       "    <tr>\n",
       "      <th>mean</th>\n",
       "      <td>2015.0</td>\n",
       "      <td>6.524085e+00</td>\n",
       "      <td>1.570459e+01</td>\n",
       "      <td>3.926941e+00</td>\n",
       "      <td>2.173093e+03</td>\n",
       "      <td>1.329602e+03</td>\n",
       "      <td>1.335204e+03</td>\n",
       "      <td>9.370158e+00</td>\n",
       "      <td>1.607166e+01</td>\n",
       "      <td>1.357171e+03</td>\n",
       "      <td>1.416859e+02</td>\n",
       "      <td>1.370062e+02</td>\n",
       "      <td>1.135116e+02</td>\n",
       "      <td>8.223565e+02</td>\n",
       "      <td>1.471469e+03</td>\n",
       "      <td>7.434971e+00</td>\n",
       "      <td>1.493808e+03</td>\n",
       "      <td>1.476491e+03</td>\n",
       "      <td>4.407057e+00</td>\n",
       "      <td>2.609863e-03</td>\n",
       "      <td>1.544643e-02</td>\n",
       "      <td>1.348057e+01</td>\n",
       "      <td>7.615387e-02</td>\n",
       "      <td>1.896955e+01</td>\n",
       "      <td>2.347284e+01</td>\n",
       "      <td>2.915290e+00</td>\n",
       "    </tr>\n",
       "    <tr>\n",
       "      <th>std</th>\n",
       "      <td>0.0</td>\n",
       "      <td>3.405137e+00</td>\n",
       "      <td>8.783425e+00</td>\n",
       "      <td>1.988845e+00</td>\n",
       "      <td>1.757064e+03</td>\n",
       "      <td>4.837518e+02</td>\n",
       "      <td>4.964233e+02</td>\n",
       "      <td>3.708094e+01</td>\n",
       "      <td>8.895574e+00</td>\n",
       "      <td>4.980094e+02</td>\n",
       "      <td>7.521058e+01</td>\n",
       "      <td>7.421107e+01</td>\n",
       "      <td>7.223082e+01</td>\n",
       "      <td>6.077843e+02</td>\n",
       "      <td>5.221879e+02</td>\n",
       "      <td>5.638548e+00</td>\n",
       "      <td>5.071647e+02</td>\n",
       "      <td>5.263197e+02</td>\n",
       "      <td>3.927130e+01</td>\n",
       "      <td>5.102012e-02</td>\n",
       "      <td>1.233201e-01</td>\n",
       "      <td>2.800368e+01</td>\n",
       "      <td>2.143460e+00</td>\n",
       "      <td>4.816164e+01</td>\n",
       "      <td>4.319702e+01</td>\n",
       "      <td>2.043334e+01</td>\n",
       "    </tr>\n",
       "    <tr>\n",
       "      <th>min</th>\n",
       "      <td>2015.0</td>\n",
       "      <td>1.000000e+00</td>\n",
       "      <td>1.000000e+00</td>\n",
       "      <td>1.000000e+00</td>\n",
       "      <td>1.000000e+00</td>\n",
       "      <td>1.000000e+00</td>\n",
       "      <td>1.000000e+00</td>\n",
       "      <td>-8.200000e+01</td>\n",
       "      <td>1.000000e+00</td>\n",
       "      <td>1.000000e+00</td>\n",
       "      <td>1.800000e+01</td>\n",
       "      <td>1.400000e+01</td>\n",
       "      <td>7.000000e+00</td>\n",
       "      <td>2.100000e+01</td>\n",
       "      <td>1.000000e+00</td>\n",
       "      <td>1.000000e+00</td>\n",
       "      <td>1.000000e+00</td>\n",
       "      <td>1.000000e+00</td>\n",
       "      <td>-8.700000e+01</td>\n",
       "      <td>0.000000e+00</td>\n",
       "      <td>0.000000e+00</td>\n",
       "      <td>0.000000e+00</td>\n",
       "      <td>0.000000e+00</td>\n",
       "      <td>0.000000e+00</td>\n",
       "      <td>0.000000e+00</td>\n",
       "      <td>0.000000e+00</td>\n",
       "    </tr>\n",
       "    <tr>\n",
       "      <th>25%</th>\n",
       "      <td>2015.0</td>\n",
       "      <td>4.000000e+00</td>\n",
       "      <td>8.000000e+00</td>\n",
       "      <td>2.000000e+00</td>\n",
       "      <td>7.300000e+02</td>\n",
       "      <td>9.170000e+02</td>\n",
       "      <td>9.210000e+02</td>\n",
       "      <td>-5.000000e+00</td>\n",
       "      <td>1.100000e+01</td>\n",
       "      <td>9.350000e+02</td>\n",
       "      <td>8.500000e+01</td>\n",
       "      <td>8.200000e+01</td>\n",
       "      <td>6.000000e+01</td>\n",
       "      <td>3.730000e+02</td>\n",
       "      <td>1.054000e+03</td>\n",
       "      <td>4.000000e+00</td>\n",
       "      <td>1.110000e+03</td>\n",
       "      <td>1.059000e+03</td>\n",
       "      <td>-1.300000e+01</td>\n",
       "      <td>0.000000e+00</td>\n",
       "      <td>0.000000e+00</td>\n",
       "      <td>0.000000e+00</td>\n",
       "      <td>0.000000e+00</td>\n",
       "      <td>0.000000e+00</td>\n",
       "      <td>0.000000e+00</td>\n",
       "      <td>0.000000e+00</td>\n",
       "    </tr>\n",
       "    <tr>\n",
       "      <th>50%</th>\n",
       "      <td>2015.0</td>\n",
       "      <td>7.000000e+00</td>\n",
       "      <td>1.600000e+01</td>\n",
       "      <td>4.000000e+00</td>\n",
       "      <td>1.690000e+03</td>\n",
       "      <td>1.325000e+03</td>\n",
       "      <td>1.330000e+03</td>\n",
       "      <td>-2.000000e+00</td>\n",
       "      <td>1.400000e+01</td>\n",
       "      <td>1.343000e+03</td>\n",
       "      <td>1.230000e+02</td>\n",
       "      <td>1.180000e+02</td>\n",
       "      <td>9.400000e+01</td>\n",
       "      <td>6.470000e+02</td>\n",
       "      <td>1.509000e+03</td>\n",
       "      <td>6.000000e+00</td>\n",
       "      <td>1.520000e+03</td>\n",
       "      <td>1.512000e+03</td>\n",
       "      <td>-5.000000e+00</td>\n",
       "      <td>0.000000e+00</td>\n",
       "      <td>0.000000e+00</td>\n",
       "      <td>2.000000e+00</td>\n",
       "      <td>0.000000e+00</td>\n",
       "      <td>2.000000e+00</td>\n",
       "      <td>3.000000e+00</td>\n",
       "      <td>0.000000e+00</td>\n",
       "    </tr>\n",
       "    <tr>\n",
       "      <th>75%</th>\n",
       "      <td>2015.0</td>\n",
       "      <td>9.000000e+00</td>\n",
       "      <td>2.300000e+01</td>\n",
       "      <td>6.000000e+00</td>\n",
       "      <td>3.230000e+03</td>\n",
       "      <td>1.730000e+03</td>\n",
       "      <td>1.740000e+03</td>\n",
       "      <td>7.000000e+00</td>\n",
       "      <td>1.900000e+01</td>\n",
       "      <td>1.754000e+03</td>\n",
       "      <td>1.730000e+02</td>\n",
       "      <td>1.680000e+02</td>\n",
       "      <td>1.440000e+02</td>\n",
       "      <td>1.062000e+03</td>\n",
       "      <td>1.911000e+03</td>\n",
       "      <td>9.000000e+00</td>\n",
       "      <td>1.918000e+03</td>\n",
       "      <td>1.917000e+03</td>\n",
       "      <td>8.000000e+00</td>\n",
       "      <td>0.000000e+00</td>\n",
       "      <td>0.000000e+00</td>\n",
       "      <td>1.800000e+01</td>\n",
       "      <td>0.000000e+00</td>\n",
       "      <td>1.900000e+01</td>\n",
       "      <td>2.900000e+01</td>\n",
       "      <td>0.000000e+00</td>\n",
       "    </tr>\n",
       "    <tr>\n",
       "      <th>max</th>\n",
       "      <td>2015.0</td>\n",
       "      <td>1.200000e+01</td>\n",
       "      <td>3.100000e+01</td>\n",
       "      <td>7.000000e+00</td>\n",
       "      <td>9.855000e+03</td>\n",
       "      <td>2.359000e+03</td>\n",
       "      <td>2.400000e+03</td>\n",
       "      <td>1.988000e+03</td>\n",
       "      <td>2.250000e+02</td>\n",
       "      <td>2.400000e+03</td>\n",
       "      <td>7.180000e+02</td>\n",
       "      <td>7.660000e+02</td>\n",
       "      <td>6.900000e+02</td>\n",
       "      <td>4.983000e+03</td>\n",
       "      <td>2.400000e+03</td>\n",
       "      <td>2.480000e+02</td>\n",
       "      <td>2.400000e+03</td>\n",
       "      <td>2.400000e+03</td>\n",
       "      <td>1.971000e+03</td>\n",
       "      <td>1.000000e+00</td>\n",
       "      <td>1.000000e+00</td>\n",
       "      <td>1.134000e+03</td>\n",
       "      <td>5.730000e+02</td>\n",
       "      <td>1.971000e+03</td>\n",
       "      <td>1.331000e+03</td>\n",
       "      <td>1.211000e+03</td>\n",
       "    </tr>\n",
       "  </tbody>\n",
       "</table>\n",
       "</div>"
      ],
      "text/plain": [
       "            YEAR         MONTH           DAY   DAY_OF_WEEK  FLIGHT_NUMBER  \\\n",
       "count  5819079.0  5.819079e+06  5.819079e+06  5.819079e+06   5.819079e+06   \n",
       "mean      2015.0  6.524085e+00  1.570459e+01  3.926941e+00   2.173093e+03   \n",
       "std          0.0  3.405137e+00  8.783425e+00  1.988845e+00   1.757064e+03   \n",
       "min       2015.0  1.000000e+00  1.000000e+00  1.000000e+00   1.000000e+00   \n",
       "25%       2015.0  4.000000e+00  8.000000e+00  2.000000e+00   7.300000e+02   \n",
       "50%       2015.0  7.000000e+00  1.600000e+01  4.000000e+00   1.690000e+03   \n",
       "75%       2015.0  9.000000e+00  2.300000e+01  6.000000e+00   3.230000e+03   \n",
       "max       2015.0  1.200000e+01  3.100000e+01  7.000000e+00   9.855000e+03   \n",
       "\n",
       "       SCHEDULED_DEPARTURE  DEPARTURE_TIME  DEPARTURE_DELAY      TAXI_OUT  \\\n",
       "count         5.819079e+06    5.732926e+06     5.732926e+06  5.730032e+06   \n",
       "mean          1.329602e+03    1.335204e+03     9.370158e+00  1.607166e+01   \n",
       "std           4.837518e+02    4.964233e+02     3.708094e+01  8.895574e+00   \n",
       "min           1.000000e+00    1.000000e+00    -8.200000e+01  1.000000e+00   \n",
       "25%           9.170000e+02    9.210000e+02    -5.000000e+00  1.100000e+01   \n",
       "50%           1.325000e+03    1.330000e+03    -2.000000e+00  1.400000e+01   \n",
       "75%           1.730000e+03    1.740000e+03     7.000000e+00  1.900000e+01   \n",
       "max           2.359000e+03    2.400000e+03     1.988000e+03  2.250000e+02   \n",
       "\n",
       "         WHEELS_OFF  SCHEDULED_TIME  ELAPSED_TIME      AIR_TIME      DISTANCE  \\\n",
       "count  5.730032e+06    5.819073e+06  5.714008e+06  5.714008e+06  5.819079e+06   \n",
       "mean   1.357171e+03    1.416859e+02  1.370062e+02  1.135116e+02  8.223565e+02   \n",
       "std    4.980094e+02    7.521058e+01  7.421107e+01  7.223082e+01  6.077843e+02   \n",
       "min    1.000000e+00    1.800000e+01  1.400000e+01  7.000000e+00  2.100000e+01   \n",
       "25%    9.350000e+02    8.500000e+01  8.200000e+01  6.000000e+01  3.730000e+02   \n",
       "50%    1.343000e+03    1.230000e+02  1.180000e+02  9.400000e+01  6.470000e+02   \n",
       "75%    1.754000e+03    1.730000e+02  1.680000e+02  1.440000e+02  1.062000e+03   \n",
       "max    2.400000e+03    7.180000e+02  7.660000e+02  6.900000e+02  4.983000e+03   \n",
       "\n",
       "          WHEELS_ON       TAXI_IN  SCHEDULED_ARRIVAL  ARRIVAL_TIME  \\\n",
       "count  5.726566e+06  5.726566e+06       5.819079e+06  5.726566e+06   \n",
       "mean   1.471469e+03  7.434971e+00       1.493808e+03  1.476491e+03   \n",
       "std    5.221879e+02  5.638548e+00       5.071647e+02  5.263197e+02   \n",
       "min    1.000000e+00  1.000000e+00       1.000000e+00  1.000000e+00   \n",
       "25%    1.054000e+03  4.000000e+00       1.110000e+03  1.059000e+03   \n",
       "50%    1.509000e+03  6.000000e+00       1.520000e+03  1.512000e+03   \n",
       "75%    1.911000e+03  9.000000e+00       1.918000e+03  1.917000e+03   \n",
       "max    2.400000e+03  2.480000e+02       2.400000e+03  2.400000e+03   \n",
       "\n",
       "       ARRIVAL_DELAY      DIVERTED     CANCELLED  AIR_SYSTEM_DELAY  \\\n",
       "count   5.714008e+06  5.819079e+06  5.819079e+06      1.063439e+06   \n",
       "mean    4.407057e+00  2.609863e-03  1.544643e-02      1.348057e+01   \n",
       "std     3.927130e+01  5.102012e-02  1.233201e-01      2.800368e+01   \n",
       "min    -8.700000e+01  0.000000e+00  0.000000e+00      0.000000e+00   \n",
       "25%    -1.300000e+01  0.000000e+00  0.000000e+00      0.000000e+00   \n",
       "50%    -5.000000e+00  0.000000e+00  0.000000e+00      2.000000e+00   \n",
       "75%     8.000000e+00  0.000000e+00  0.000000e+00      1.800000e+01   \n",
       "max     1.971000e+03  1.000000e+00  1.000000e+00      1.134000e+03   \n",
       "\n",
       "       SECURITY_DELAY  AIRLINE_DELAY  LATE_AIRCRAFT_DELAY  WEATHER_DELAY  \n",
       "count    1.063439e+06   1.063439e+06         1.063439e+06   1.063439e+06  \n",
       "mean     7.615387e-02   1.896955e+01         2.347284e+01   2.915290e+00  \n",
       "std      2.143460e+00   4.816164e+01         4.319702e+01   2.043334e+01  \n",
       "min      0.000000e+00   0.000000e+00         0.000000e+00   0.000000e+00  \n",
       "25%      0.000000e+00   0.000000e+00         0.000000e+00   0.000000e+00  \n",
       "50%      0.000000e+00   2.000000e+00         3.000000e+00   0.000000e+00  \n",
       "75%      0.000000e+00   1.900000e+01         2.900000e+01   0.000000e+00  \n",
       "max      5.730000e+02   1.971000e+03         1.331000e+03   1.211000e+03  "
      ]
     },
     "execution_count": 7,
     "metadata": {},
     "output_type": "execute_result"
    }
   ],
   "source": [
    "flights.describe()"
   ]
  },
  {
   "cell_type": "code",
   "execution_count": null,
   "id": "a14018d4",
   "metadata": {
    "papermill": {
     "duration": 0.008702,
     "end_time": "2023-12-26T01:18:59.721008",
     "exception": false,
     "start_time": "2023-12-26T01:18:59.712306",
     "status": "completed"
    },
    "tags": []
   },
   "outputs": [],
   "source": []
  },
  {
   "cell_type": "code",
   "execution_count": 8,
   "id": "28de048a",
   "metadata": {
    "execution": {
     "iopub.execute_input": "2023-12-26T01:18:59.742137Z",
     "iopub.status.busy": "2023-12-26T01:18:59.741020Z",
     "iopub.status.idle": "2023-12-26T01:19:00.095766Z",
     "shell.execute_reply": "2023-12-26T01:19:00.094451Z"
    },
    "papermill": {
     "duration": 0.368412,
     "end_time": "2023-12-26T01:19:00.098702",
     "exception": false,
     "start_time": "2023-12-26T01:18:59.730290",
     "status": "completed"
    },
    "tags": []
   },
   "outputs": [
    {
     "data": {
      "text/html": [
       "<div>\n",
       "<style scoped>\n",
       "    .dataframe tbody tr th:only-of-type {\n",
       "        vertical-align: middle;\n",
       "    }\n",
       "\n",
       "    .dataframe tbody tr th {\n",
       "        vertical-align: top;\n",
       "    }\n",
       "\n",
       "    .dataframe thead th {\n",
       "        text-align: right;\n",
       "    }\n",
       "</style>\n",
       "<table border=\"1\" class=\"dataframe\">\n",
       "  <thead>\n",
       "    <tr style=\"text-align: right;\">\n",
       "      <th></th>\n",
       "      <th>YEAR</th>\n",
       "      <th>MONTH</th>\n",
       "      <th>count</th>\n",
       "    </tr>\n",
       "  </thead>\n",
       "  <tbody>\n",
       "    <tr>\n",
       "      <th>8</th>\n",
       "      <td>2015</td>\n",
       "      <td>1</td>\n",
       "      <td>469968</td>\n",
       "    </tr>\n",
       "    <tr>\n",
       "      <th>11</th>\n",
       "      <td>2015</td>\n",
       "      <td>2</td>\n",
       "      <td>429191</td>\n",
       "    </tr>\n",
       "    <tr>\n",
       "      <th>2</th>\n",
       "      <td>2015</td>\n",
       "      <td>3</td>\n",
       "      <td>504312</td>\n",
       "    </tr>\n",
       "    <tr>\n",
       "      <th>6</th>\n",
       "      <td>2015</td>\n",
       "      <td>4</td>\n",
       "      <td>485151</td>\n",
       "    </tr>\n",
       "    <tr>\n",
       "      <th>4</th>\n",
       "      <td>2015</td>\n",
       "      <td>5</td>\n",
       "      <td>496993</td>\n",
       "    </tr>\n",
       "    <tr>\n",
       "      <th>3</th>\n",
       "      <td>2015</td>\n",
       "      <td>6</td>\n",
       "      <td>503897</td>\n",
       "    </tr>\n",
       "    <tr>\n",
       "      <th>0</th>\n",
       "      <td>2015</td>\n",
       "      <td>7</td>\n",
       "      <td>520718</td>\n",
       "    </tr>\n",
       "    <tr>\n",
       "      <th>1</th>\n",
       "      <td>2015</td>\n",
       "      <td>8</td>\n",
       "      <td>510536</td>\n",
       "    </tr>\n",
       "    <tr>\n",
       "      <th>10</th>\n",
       "      <td>2015</td>\n",
       "      <td>9</td>\n",
       "      <td>464946</td>\n",
       "    </tr>\n",
       "    <tr>\n",
       "      <th>5</th>\n",
       "      <td>2015</td>\n",
       "      <td>10</td>\n",
       "      <td>486165</td>\n",
       "    </tr>\n",
       "    <tr>\n",
       "      <th>9</th>\n",
       "      <td>2015</td>\n",
       "      <td>11</td>\n",
       "      <td>467972</td>\n",
       "    </tr>\n",
       "    <tr>\n",
       "      <th>7</th>\n",
       "      <td>2015</td>\n",
       "      <td>12</td>\n",
       "      <td>479230</td>\n",
       "    </tr>\n",
       "  </tbody>\n",
       "</table>\n",
       "</div>"
      ],
      "text/plain": [
       "    YEAR  MONTH   count\n",
       "8   2015      1  469968\n",
       "11  2015      2  429191\n",
       "2   2015      3  504312\n",
       "6   2015      4  485151\n",
       "4   2015      5  496993\n",
       "3   2015      6  503897\n",
       "0   2015      7  520718\n",
       "1   2015      8  510536\n",
       "10  2015      9  464946\n",
       "5   2015     10  486165\n",
       "9   2015     11  467972\n",
       "7   2015     12  479230"
      ]
     },
     "execution_count": 8,
     "metadata": {},
     "output_type": "execute_result"
    }
   ],
   "source": [
    "flights[['YEAR', \"MONTH\"]].value_counts().reset_index().sort_values(\"MONTH\")"
   ]
  },
  {
   "cell_type": "markdown",
   "id": "5fb70462",
   "metadata": {
    "papermill": {
     "duration": 0.009213,
     "end_time": "2023-12-26T01:19:00.117278",
     "exception": false,
     "start_time": "2023-12-26T01:19:00.108065",
     "status": "completed"
    },
    "tags": []
   },
   "source": [
    "### Cancelled Flights, quick overview\n",
    "\n",
    "* only 1.5%..\n",
    "* can still have departure delay, but then getting cancelled.\n"
   ]
  },
  {
   "cell_type": "code",
   "execution_count": 9,
   "id": "df3764f5",
   "metadata": {
    "execution": {
     "iopub.execute_input": "2023-12-26T01:19:00.138714Z",
     "iopub.status.busy": "2023-12-26T01:19:00.138197Z",
     "iopub.status.idle": "2023-12-26T01:19:00.209500Z",
     "shell.execute_reply": "2023-12-26T01:19:00.208115Z"
    },
    "papermill": {
     "duration": 0.086003,
     "end_time": "2023-12-26T01:19:00.212515",
     "exception": false,
     "start_time": "2023-12-26T01:19:00.126512",
     "status": "completed"
    },
    "tags": []
   },
   "outputs": [
    {
     "data": {
      "text/plain": [
       "CANCELLED\n",
       "0    5729195\n",
       "1      89884\n",
       "Name: count, dtype: int64"
      ]
     },
     "execution_count": 9,
     "metadata": {},
     "output_type": "execute_result"
    }
   ],
   "source": [
    "flights['CANCELLED'].value_counts()"
   ]
  },
  {
   "cell_type": "code",
   "execution_count": 10,
   "id": "e5c068ef",
   "metadata": {
    "execution": {
     "iopub.execute_input": "2023-12-26T01:19:00.234830Z",
     "iopub.status.busy": "2023-12-26T01:19:00.234320Z",
     "iopub.status.idle": "2023-12-26T01:19:00.301711Z",
     "shell.execute_reply": "2023-12-26T01:19:00.300454Z"
    },
    "papermill": {
     "duration": 0.081693,
     "end_time": "2023-12-26T01:19:00.304220",
     "exception": false,
     "start_time": "2023-12-26T01:19:00.222527",
     "status": "completed"
    },
    "tags": []
   },
   "outputs": [
    {
     "data": {
      "text/plain": [
       "CANCELLED\n",
       "0    0.984554\n",
       "1    0.015446\n",
       "Name: proportion, dtype: float64"
      ]
     },
     "execution_count": 10,
     "metadata": {},
     "output_type": "execute_result"
    }
   ],
   "source": [
    "flights['CANCELLED'].value_counts(normalize=True)"
   ]
  },
  {
   "cell_type": "code",
   "execution_count": 11,
   "id": "e1ded258",
   "metadata": {
    "execution": {
     "iopub.execute_input": "2023-12-26T01:19:00.326697Z",
     "iopub.status.busy": "2023-12-26T01:19:00.326196Z",
     "iopub.status.idle": "2023-12-26T01:19:00.472948Z",
     "shell.execute_reply": "2023-12-26T01:19:00.471440Z"
    },
    "papermill": {
     "duration": 0.161371,
     "end_time": "2023-12-26T01:19:00.475896",
     "exception": false,
     "start_time": "2023-12-26T01:19:00.314525",
     "status": "completed"
    },
    "tags": []
   },
   "outputs": [
    {
     "data": {
      "text/plain": [
       "YEAR                       0\n",
       "MONTH                      0\n",
       "DAY                        0\n",
       "DAY_OF_WEEK                0\n",
       "AIRLINE                    0\n",
       "FLIGHT_NUMBER              0\n",
       "TAIL_NUMBER            14721\n",
       "ORIGIN_AIRPORT             0\n",
       "DESTINATION_AIRPORT        0\n",
       "SCHEDULED_DEPARTURE        0\n",
       "DEPARTURE_TIME         86153\n",
       "DEPARTURE_DELAY        86153\n",
       "TAXI_OUT               89047\n",
       "WHEELS_OFF             89047\n",
       "SCHEDULED_TIME             5\n",
       "ELAPSED_TIME           89884\n",
       "AIR_TIME               89884\n",
       "DISTANCE                   0\n",
       "WHEELS_ON              89884\n",
       "TAXI_IN                89884\n",
       "SCHEDULED_ARRIVAL          0\n",
       "ARRIVAL_TIME           89884\n",
       "ARRIVAL_DELAY          89884\n",
       "DIVERTED                   0\n",
       "CANCELLED                  0\n",
       "CANCELLATION_REASON        0\n",
       "AIR_SYSTEM_DELAY       89884\n",
       "SECURITY_DELAY         89884\n",
       "AIRLINE_DELAY          89884\n",
       "LATE_AIRCRAFT_DELAY    89884\n",
       "WEATHER_DELAY          89884\n",
       "dtype: int64"
      ]
     },
     "execution_count": 11,
     "metadata": {},
     "output_type": "execute_result"
    }
   ],
   "source": [
    "flights[flights['CANCELLED'] == 1].isna().sum()"
   ]
  },
  {
   "cell_type": "markdown",
   "id": "3fe92a2e",
   "metadata": {
    "papermill": {
     "duration": 0.010232,
     "end_time": "2023-12-26T01:19:00.496632",
     "exception": false,
     "start_time": "2023-12-26T01:19:00.486400",
     "status": "completed"
    },
    "tags": []
   },
   "source": [
    "### Diverted Flights, quick overview\n",
    "\n",
    "* diverted flights have no air_time an elapsed time and zero distnace. Albeit arrival time does exist.\n",
    "* hence assume they did not fly! similar to cancellations\n",
    "* only 0.26% of all travel"
   ]
  },
  {
   "cell_type": "code",
   "execution_count": 12,
   "id": "0d6aeae1",
   "metadata": {
    "execution": {
     "iopub.execute_input": "2023-12-26T01:19:00.520075Z",
     "iopub.status.busy": "2023-12-26T01:19:00.519587Z",
     "iopub.status.idle": "2023-12-26T01:19:00.586637Z",
     "shell.execute_reply": "2023-12-26T01:19:00.585194Z"
    },
    "papermill": {
     "duration": 0.082715,
     "end_time": "2023-12-26T01:19:00.589750",
     "exception": false,
     "start_time": "2023-12-26T01:19:00.507035",
     "status": "completed"
    },
    "tags": []
   },
   "outputs": [
    {
     "data": {
      "text/plain": [
       "DIVERTED\n",
       "0    5803892\n",
       "1      15187\n",
       "Name: count, dtype: int64"
      ]
     },
     "execution_count": 12,
     "metadata": {},
     "output_type": "execute_result"
    }
   ],
   "source": [
    "flights['DIVERTED'].value_counts()"
   ]
  },
  {
   "cell_type": "code",
   "execution_count": 13,
   "id": "017537b7",
   "metadata": {
    "execution": {
     "iopub.execute_input": "2023-12-26T01:19:00.613532Z",
     "iopub.status.busy": "2023-12-26T01:19:00.613126Z",
     "iopub.status.idle": "2023-12-26T01:19:00.680795Z",
     "shell.execute_reply": "2023-12-26T01:19:00.679302Z"
    },
    "papermill": {
     "duration": 0.082696,
     "end_time": "2023-12-26T01:19:00.683549",
     "exception": false,
     "start_time": "2023-12-26T01:19:00.600853",
     "status": "completed"
    },
    "tags": []
   },
   "outputs": [
    {
     "data": {
      "text/plain": [
       "DIVERTED\n",
       "0    0.99739\n",
       "1    0.00261\n",
       "Name: proportion, dtype: float64"
      ]
     },
     "execution_count": 13,
     "metadata": {},
     "output_type": "execute_result"
    }
   ],
   "source": [
    "flights['DIVERTED'].value_counts(normalize=True)"
   ]
  },
  {
   "cell_type": "code",
   "execution_count": 14,
   "id": "4e4a14e4",
   "metadata": {
    "execution": {
     "iopub.execute_input": "2023-12-26T01:19:00.706018Z",
     "iopub.status.busy": "2023-12-26T01:19:00.705612Z",
     "iopub.status.idle": "2023-12-26T01:19:00.748933Z",
     "shell.execute_reply": "2023-12-26T01:19:00.747427Z"
    },
    "papermill": {
     "duration": 0.057836,
     "end_time": "2023-12-26T01:19:00.751870",
     "exception": false,
     "start_time": "2023-12-26T01:19:00.694034",
     "status": "completed"
    },
    "tags": []
   },
   "outputs": [
    {
     "data": {
      "text/plain": [
       "YEAR                       0\n",
       "MONTH                      0\n",
       "DAY                        0\n",
       "DAY_OF_WEEK                0\n",
       "AIRLINE                    0\n",
       "FLIGHT_NUMBER              0\n",
       "TAIL_NUMBER                0\n",
       "ORIGIN_AIRPORT             0\n",
       "DESTINATION_AIRPORT        0\n",
       "SCHEDULED_DEPARTURE        0\n",
       "DEPARTURE_TIME             0\n",
       "DEPARTURE_DELAY            0\n",
       "TAXI_OUT                   0\n",
       "WHEELS_OFF                 0\n",
       "SCHEDULED_TIME             1\n",
       "ELAPSED_TIME           15187\n",
       "AIR_TIME               15187\n",
       "DISTANCE                   0\n",
       "WHEELS_ON               2629\n",
       "TAXI_IN                 2629\n",
       "SCHEDULED_ARRIVAL          0\n",
       "ARRIVAL_TIME            2629\n",
       "ARRIVAL_DELAY          15187\n",
       "DIVERTED                   0\n",
       "CANCELLED                  0\n",
       "CANCELLATION_REASON    15187\n",
       "AIR_SYSTEM_DELAY       15187\n",
       "SECURITY_DELAY         15187\n",
       "AIRLINE_DELAY          15187\n",
       "LATE_AIRCRAFT_DELAY    15187\n",
       "WEATHER_DELAY          15187\n",
       "dtype: int64"
      ]
     },
     "execution_count": 14,
     "metadata": {},
     "output_type": "execute_result"
    }
   ],
   "source": [
    "flights[flights['DIVERTED'] == 1].isna().sum()"
   ]
  },
  {
   "cell_type": "code",
   "execution_count": null,
   "id": "09e742ff",
   "metadata": {
    "papermill": {
     "duration": 0.010556,
     "end_time": "2023-12-26T01:19:00.773366",
     "exception": false,
     "start_time": "2023-12-26T01:19:00.762810",
     "status": "completed"
    },
    "tags": []
   },
   "outputs": [],
   "source": []
  },
  {
   "cell_type": "code",
   "execution_count": null,
   "id": "84efa395",
   "metadata": {
    "papermill": {
     "duration": 0.010862,
     "end_time": "2023-12-26T01:19:00.795864",
     "exception": false,
     "start_time": "2023-12-26T01:19:00.785002",
     "status": "completed"
    },
    "tags": []
   },
   "outputs": [],
   "source": []
  }
 ],
 "metadata": {
  "kaggle": {
   "accelerator": "none",
   "dataSources": [
    {
     "datasetId": 810,
     "sourceId": 1496,
     "sourceType": "datasetVersion"
    }
   ],
   "dockerImageVersionId": 30615,
   "isGpuEnabled": false,
   "isInternetEnabled": true,
   "language": "python",
   "sourceType": "notebook"
  },
  "kernelspec": {
   "display_name": "Python 3",
   "language": "python",
   "name": "python3"
  },
  "language_info": {
   "codemirror_mode": {
    "name": "ipython",
    "version": 3
   },
   "file_extension": ".py",
   "mimetype": "text/x-python",
   "name": "python",
   "nbconvert_exporter": "python",
   "pygments_lexer": "ipython3",
   "version": "3.10.12"
  },
  "papermill": {
   "default_parameters": {},
   "duration": 50.274155,
   "end_time": "2023-12-26T01:19:01.631888",
   "environment_variables": {},
   "exception": null,
   "input_path": "__notebook__.ipynb",
   "output_path": "__notebook__.ipynb",
   "parameters": {},
   "start_time": "2023-12-26T01:18:11.357733",
   "version": "2.4.0"
  }
 },
 "nbformat": 4,
 "nbformat_minor": 5
}
